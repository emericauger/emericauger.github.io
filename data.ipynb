{
 "cells": [
  {
   "cell_type": "code",
   "execution_count": 14,
   "metadata": {},
   "outputs": [],
   "source": [
    "import pandas as pd\n",
    "from math import modf"
   ]
  },
  {
   "cell_type": "code",
   "execution_count": 15,
   "metadata": {},
   "outputs": [],
   "source": [
    "DISTANCE = 16.2\n",
    "TEMPS = [t for t in range(52, 121)]"
   ]
  },
  {
   "cell_type": "code",
   "execution_count": 16,
   "metadata": {},
   "outputs": [],
   "source": [
    "def vitesse(distance, temps):\n",
    "    return round(distance / temps * 60, 2)"
   ]
  },
  {
   "cell_type": "code",
   "execution_count": 17,
   "metadata": {},
   "outputs": [],
   "source": [
    "def allure(distance, temps):\n",
    "    allure = temps / distance\n",
    "    fraction_secondes = modf(allure)[0] * 0.6\n",
    "    return round(modf(allure)[1] + fraction_secondes, 2)"
   ]
  },
  {
   "cell_type": "code",
   "execution_count": 18,
   "metadata": {},
   "outputs": [],
   "source": [
    "df = pd.DataFrame(data={'temps': TEMPS})\n",
    "df['vitesse'] = df['temps'].apply(lambda t: vitesse(DISTANCE, t))\n",
    "df['allure'] = df['temps'].apply(lambda t: allure(DISTANCE, t))\n",
    "df['temps'] = pd.to_datetime(df.temps, unit='m').dt.strftime('%H:%M')\n",
    "\n",
    "df.to_html('table.html', index=False)\n"
   ]
  }
 ],
 "metadata": {
  "interpreter": {
   "hash": "aee8b7b246df8f9039afb4144a1f6fd8d2ca17a180786b69acc140d282b71a49"
  },
  "kernelspec": {
   "display_name": "Python 3.10.0 64-bit",
   "language": "python",
   "name": "python3"
  },
  "language_info": {
   "codemirror_mode": {
    "name": "ipython",
    "version": 3
   },
   "file_extension": ".py",
   "mimetype": "text/x-python",
   "name": "python",
   "nbconvert_exporter": "python",
   "pygments_lexer": "ipython3",
   "version": "3.10.0"
  },
  "orig_nbformat": 4
 },
 "nbformat": 4,
 "nbformat_minor": 2
}
